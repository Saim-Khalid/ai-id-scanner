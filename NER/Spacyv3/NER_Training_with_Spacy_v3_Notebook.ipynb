{
  "cells": [
    {
      "cell_type": "markdown",
      "id": "0db90d18",
      "metadata": {
        "id": "0db90d18"
      },
      "source": [
        "## Train NER with Spacy v3 📣"
      ]
    },
    {
      "cell_type": "code",
      "source": [
        "!pip install -U pip setuptools wheel"
      ],
      "metadata": {
        "colab": {
          "base_uri": "https://localhost:8080/"
        },
        "id": "xuEQNZcHsahB",
        "outputId": "b3b0a224-b410-445f-eaeb-bdcdd37eb7fa"
      },
      "id": "xuEQNZcHsahB",
      "execution_count": null,
      "outputs": [
        {
          "output_type": "stream",
          "name": "stdout",
          "text": [
            "Looking in indexes: https://pypi.org/simple, https://us-python.pkg.dev/colab-wheels/public/simple/\n",
            "Requirement already satisfied: pip in /usr/local/lib/python3.9/dist-packages (23.0.1)\n",
            "Requirement already satisfied: setuptools in /usr/local/lib/python3.9/dist-packages (67.6.1)\n",
            "Requirement already satisfied: wheel in /usr/local/lib/python3.9/dist-packages (0.40.0)\n"
          ]
        }
      ]
    },
    {
      "cell_type": "code",
      "source": [
        "pip install -U 'spacy[transformers,lookups]'"
      ],
      "metadata": {
        "colab": {
          "base_uri": "https://localhost:8080/"
        },
        "id": "u9Y0D3nWspB_",
        "outputId": "60ca1381-be4a-455d-9f2c-c61bd5ba5b7a"
      },
      "id": "u9Y0D3nWspB_",
      "execution_count": null,
      "outputs": [
        {
          "output_type": "stream",
          "name": "stdout",
          "text": [
            "Looking in indexes: https://pypi.org/simple, https://us-python.pkg.dev/colab-wheels/public/simple/\n",
            "Requirement already satisfied: spacy[lookups,transformers] in /usr/local/lib/python3.9/dist-packages (3.5.1)\n",
            "Collecting spacy[lookups,transformers]\n",
            "  Downloading spacy-3.5.2-cp39-cp39-manylinux_2_17_x86_64.manylinux2014_x86_64.whl (6.6 MB)\n",
            "\u001b[2K     \u001b[90m━━━━━━━━━━━━━━━━━━━━━━━━━━━━━━━━━━━━━━━━\u001b[0m \u001b[32m6.6/6.6 MB\u001b[0m \u001b[31m73.0 MB/s\u001b[0m eta \u001b[36m0:00:00\u001b[0m\n",
            "\u001b[?25hRequirement already satisfied: pathy>=0.10.0 in /usr/local/lib/python3.9/dist-packages (from spacy[lookups,transformers]) (0.10.1)\n",
            "Requirement already satisfied: spacy-loggers<2.0.0,>=1.0.0 in /usr/local/lib/python3.9/dist-packages (from spacy[lookups,transformers]) (1.0.4)\n",
            "Requirement already satisfied: preshed<3.1.0,>=3.0.2 in /usr/local/lib/python3.9/dist-packages (from spacy[lookups,transformers]) (3.0.8)\n",
            "Requirement already satisfied: packaging>=20.0 in /usr/local/lib/python3.9/dist-packages (from spacy[lookups,transformers]) (23.0)\n",
            "Requirement already satisfied: jinja2 in /usr/local/lib/python3.9/dist-packages (from spacy[lookups,transformers]) (3.1.2)\n",
            "Requirement already satisfied: spacy-legacy<3.1.0,>=3.0.11 in /usr/local/lib/python3.9/dist-packages (from spacy[lookups,transformers]) (3.0.12)\n",
            "Requirement already satisfied: wasabi<1.2.0,>=0.9.1 in /usr/local/lib/python3.9/dist-packages (from spacy[lookups,transformers]) (1.1.1)\n",
            "Requirement already satisfied: murmurhash<1.1.0,>=0.28.0 in /usr/local/lib/python3.9/dist-packages (from spacy[lookups,transformers]) (1.0.9)\n",
            "Requirement already satisfied: setuptools in /usr/local/lib/python3.9/dist-packages (from spacy[lookups,transformers]) (67.6.1)\n",
            "Requirement already satisfied: langcodes<4.0.0,>=3.2.0 in /usr/local/lib/python3.9/dist-packages (from spacy[lookups,transformers]) (3.3.0)\n",
            "Requirement already satisfied: smart-open<7.0.0,>=5.2.1 in /usr/local/lib/python3.9/dist-packages (from spacy[lookups,transformers]) (6.3.0)\n",
            "Requirement already satisfied: requests<3.0.0,>=2.13.0 in /usr/local/lib/python3.9/dist-packages (from spacy[lookups,transformers]) (2.27.1)\n",
            "Requirement already satisfied: srsly<3.0.0,>=2.4.3 in /usr/local/lib/python3.9/dist-packages (from spacy[lookups,transformers]) (2.4.6)\n",
            "Requirement already satisfied: numpy>=1.15.0 in /usr/local/lib/python3.9/dist-packages (from spacy[lookups,transformers]) (1.22.4)\n",
            "Requirement already satisfied: thinc<8.2.0,>=8.1.8 in /usr/local/lib/python3.9/dist-packages (from spacy[lookups,transformers]) (8.1.9)\n",
            "Requirement already satisfied: cymem<2.1.0,>=2.0.2 in /usr/local/lib/python3.9/dist-packages (from spacy[lookups,transformers]) (2.0.7)\n",
            "Requirement already satisfied: tqdm<5.0.0,>=4.38.0 in /usr/local/lib/python3.9/dist-packages (from spacy[lookups,transformers]) (4.65.0)\n",
            "Requirement already satisfied: pydantic!=1.8,!=1.8.1,<1.11.0,>=1.7.4 in /usr/local/lib/python3.9/dist-packages (from spacy[lookups,transformers]) (1.10.7)\n",
            "Requirement already satisfied: typer<0.8.0,>=0.3.0 in /usr/local/lib/python3.9/dist-packages (from spacy[lookups,transformers]) (0.7.0)\n",
            "Requirement already satisfied: catalogue<2.1.0,>=2.0.6 in /usr/local/lib/python3.9/dist-packages (from spacy[lookups,transformers]) (2.0.8)\n",
            "Collecting spacy-lookups-data<1.1.0,>=1.0.3\n",
            "  Downloading spacy_lookups_data-1.0.3-py2.py3-none-any.whl (98.5 MB)\n",
            "\u001b[2K     \u001b[90m━━━━━━━━━━━━━━━━━━━━━━━━━━━━━━━━━━━━━━━━\u001b[0m \u001b[32m98.5/98.5 MB\u001b[0m \u001b[31m9.1 MB/s\u001b[0m eta \u001b[36m0:00:00\u001b[0m\n",
            "\u001b[?25hCollecting spacy-transformers<1.3.0,>=1.1.2\n",
            "  Downloading spacy_transformers-1.2.2-cp39-cp39-manylinux_2_17_x86_64.manylinux2014_x86_64.whl (192 kB)\n",
            "\u001b[2K     \u001b[90m━━━━━━━━━━━━━━━━━━━━━━━━━━━━━━━━━━━━━━\u001b[0m \u001b[32m192.1/192.1 kB\u001b[0m \u001b[31m20.3 MB/s\u001b[0m eta \u001b[36m0:00:00\u001b[0m\n",
            "\u001b[?25hRequirement already satisfied: typing-extensions>=4.2.0 in /usr/local/lib/python3.9/dist-packages (from pydantic!=1.8,!=1.8.1,<1.11.0,>=1.7.4->spacy[lookups,transformers]) (4.5.0)\n",
            "Requirement already satisfied: urllib3<1.27,>=1.21.1 in /usr/local/lib/python3.9/dist-packages (from requests<3.0.0,>=2.13.0->spacy[lookups,transformers]) (1.26.15)\n",
            "Requirement already satisfied: charset-normalizer~=2.0.0 in /usr/local/lib/python3.9/dist-packages (from requests<3.0.0,>=2.13.0->spacy[lookups,transformers]) (2.0.12)\n",
            "Requirement already satisfied: idna<4,>=2.5 in /usr/local/lib/python3.9/dist-packages (from requests<3.0.0,>=2.13.0->spacy[lookups,transformers]) (3.4)\n",
            "Requirement already satisfied: certifi>=2017.4.17 in /usr/local/lib/python3.9/dist-packages (from requests<3.0.0,>=2.13.0->spacy[lookups,transformers]) (2022.12.7)\n",
            "Collecting transformers<4.27.0,>=3.4.0\n",
            "  Downloading transformers-4.26.1-py3-none-any.whl (6.3 MB)\n",
            "\u001b[2K     \u001b[90m━━━━━━━━━━━━━━━━━━━━━━━━━━━━━━━━━━━━━━━━\u001b[0m \u001b[32m6.3/6.3 MB\u001b[0m \u001b[31m89.3 MB/s\u001b[0m eta \u001b[36m0:00:00\u001b[0m\n",
            "\u001b[?25hRequirement already satisfied: torch>=1.8.0 in /usr/local/lib/python3.9/dist-packages (from spacy-transformers<1.3.0,>=1.1.2->spacy[lookups,transformers]) (2.0.0+cu118)\n",
            "Collecting spacy-alignments<1.0.0,>=0.7.2\n",
            "  Downloading spacy_alignments-0.9.0-cp39-cp39-manylinux_2_17_x86_64.manylinux2014_x86_64.whl (1.2 MB)\n",
            "\u001b[2K     \u001b[90m━━━━━━━━━━━━━━━━━━━━━━━━━━━━━━━━━━━━━━━━\u001b[0m \u001b[32m1.2/1.2 MB\u001b[0m \u001b[31m61.3 MB/s\u001b[0m eta \u001b[36m0:00:00\u001b[0m\n",
            "\u001b[?25hRequirement already satisfied: blis<0.8.0,>=0.7.8 in /usr/local/lib/python3.9/dist-packages (from thinc<8.2.0,>=8.1.8->spacy[lookups,transformers]) (0.7.9)\n",
            "Requirement already satisfied: confection<1.0.0,>=0.0.1 in /usr/local/lib/python3.9/dist-packages (from thinc<8.2.0,>=8.1.8->spacy[lookups,transformers]) (0.0.4)\n",
            "Requirement already satisfied: click<9.0.0,>=7.1.1 in /usr/local/lib/python3.9/dist-packages (from typer<0.8.0,>=0.3.0->spacy[lookups,transformers]) (8.1.3)\n",
            "Requirement already satisfied: MarkupSafe>=2.0 in /usr/local/lib/python3.9/dist-packages (from jinja2->spacy[lookups,transformers]) (2.1.2)\n",
            "Requirement already satisfied: sympy in /usr/local/lib/python3.9/dist-packages (from torch>=1.8.0->spacy-transformers<1.3.0,>=1.1.2->spacy[lookups,transformers]) (1.11.1)\n",
            "Requirement already satisfied: filelock in /usr/local/lib/python3.9/dist-packages (from torch>=1.8.0->spacy-transformers<1.3.0,>=1.1.2->spacy[lookups,transformers]) (3.11.0)\n",
            "Requirement already satisfied: triton==2.0.0 in /usr/local/lib/python3.9/dist-packages (from torch>=1.8.0->spacy-transformers<1.3.0,>=1.1.2->spacy[lookups,transformers]) (2.0.0)\n",
            "Requirement already satisfied: networkx in /usr/local/lib/python3.9/dist-packages (from torch>=1.8.0->spacy-transformers<1.3.0,>=1.1.2->spacy[lookups,transformers]) (3.1)\n",
            "Requirement already satisfied: lit in /usr/local/lib/python3.9/dist-packages (from triton==2.0.0->torch>=1.8.0->spacy-transformers<1.3.0,>=1.1.2->spacy[lookups,transformers]) (16.0.1)\n",
            "Requirement already satisfied: cmake in /usr/local/lib/python3.9/dist-packages (from triton==2.0.0->torch>=1.8.0->spacy-transformers<1.3.0,>=1.1.2->spacy[lookups,transformers]) (3.25.2)\n",
            "Collecting huggingface-hub<1.0,>=0.11.0\n",
            "  Downloading huggingface_hub-0.13.4-py3-none-any.whl (200 kB)\n",
            "\u001b[2K     \u001b[90m━━━━━━━━━━━━━━━━━━━━━━━━━━━━━━━━━━━━━━\u001b[0m \u001b[32m200.1/200.1 kB\u001b[0m \u001b[31m21.6 MB/s\u001b[0m eta \u001b[36m0:00:00\u001b[0m\n",
            "\u001b[?25hCollecting tokenizers!=0.11.3,<0.14,>=0.11.1\n",
            "  Downloading tokenizers-0.13.3-cp39-cp39-manylinux_2_17_x86_64.manylinux2014_x86_64.whl (7.8 MB)\n",
            "\u001b[2K     \u001b[90m━━━━━━━━━━━━━━━━━━━━━━━━━━━━━━━━━━━━━━━━\u001b[0m \u001b[32m7.8/7.8 MB\u001b[0m \u001b[31m49.9 MB/s\u001b[0m eta \u001b[36m0:00:00\u001b[0m\n",
            "\u001b[?25hRequirement already satisfied: regex!=2019.12.17 in /usr/local/lib/python3.9/dist-packages (from transformers<4.27.0,>=3.4.0->spacy-transformers<1.3.0,>=1.1.2->spacy[lookups,transformers]) (2022.10.31)\n",
            "Requirement already satisfied: pyyaml>=5.1 in /usr/local/lib/python3.9/dist-packages (from transformers<4.27.0,>=3.4.0->spacy-transformers<1.3.0,>=1.1.2->spacy[lookups,transformers]) (6.0)\n",
            "Requirement already satisfied: mpmath>=0.19 in /usr/local/lib/python3.9/dist-packages (from sympy->torch>=1.8.0->spacy-transformers<1.3.0,>=1.1.2->spacy[lookups,transformers]) (1.3.0)\n",
            "Installing collected packages: tokenizers, spacy-lookups-data, spacy-alignments, huggingface-hub, transformers, spacy, spacy-transformers\n",
            "  Attempting uninstall: spacy\n",
            "    Found existing installation: spacy 3.5.1\n",
            "    Uninstalling spacy-3.5.1:\n",
            "      Successfully uninstalled spacy-3.5.1\n",
            "Successfully installed huggingface-hub-0.13.4 spacy-3.5.2 spacy-alignments-0.9.0 spacy-lookups-data-1.0.3 spacy-transformers-1.2.2 tokenizers-0.13.3 transformers-4.26.1\n"
          ]
        }
      ]
    },
    {
      "cell_type": "code",
      "source": [
        "!python -m spacy download en_core_web_sm"
      ],
      "metadata": {
        "colab": {
          "base_uri": "https://localhost:8080/"
        },
        "id": "Ee28BJtBsxUV",
        "outputId": "b8b85740-b33e-4f39-cfa1-eafd9be986c5"
      },
      "id": "Ee28BJtBsxUV",
      "execution_count": null,
      "outputs": [
        {
          "output_type": "stream",
          "name": "stdout",
          "text": [
            "2023-04-14 05:32:50.703996: I tensorflow/core/platform/cpu_feature_guard.cc:182] This TensorFlow binary is optimized to use available CPU instructions in performance-critical operations.\n",
            "To enable the following instructions: AVX2 FMA, in other operations, rebuild TensorFlow with the appropriate compiler flags.\n",
            "2023-04-14 05:32:52.553302: W tensorflow/compiler/tf2tensorrt/utils/py_utils.cc:38] TF-TRT Warning: Could not find TensorRT\n",
            "Looking in indexes: https://pypi.org/simple, https://us-python.pkg.dev/colab-wheels/public/simple/\n",
            "Collecting en-core-web-sm==3.5.0\n",
            "  Downloading https://github.com/explosion/spacy-models/releases/download/en_core_web_sm-3.5.0/en_core_web_sm-3.5.0-py3-none-any.whl (12.8 MB)\n",
            "\u001b[2K     \u001b[90m━━━━━━━━━━━━━━━━━━━━━━━━━━━━━━━━━━━━━━━━\u001b[0m \u001b[32m12.8/12.8 MB\u001b[0m \u001b[31m78.2 MB/s\u001b[0m eta \u001b[36m0:00:00\u001b[0m\n",
            "\u001b[?25hRequirement already satisfied: spacy<3.6.0,>=3.5.0 in /usr/local/lib/python3.9/dist-packages (from en-core-web-sm==3.5.0) (3.5.2)\n",
            "Requirement already satisfied: setuptools in /usr/local/lib/python3.9/dist-packages (from spacy<3.6.0,>=3.5.0->en-core-web-sm==3.5.0) (67.6.1)\n",
            "Requirement already satisfied: catalogue<2.1.0,>=2.0.6 in /usr/local/lib/python3.9/dist-packages (from spacy<3.6.0,>=3.5.0->en-core-web-sm==3.5.0) (2.0.8)\n",
            "Requirement already satisfied: tqdm<5.0.0,>=4.38.0 in /usr/local/lib/python3.9/dist-packages (from spacy<3.6.0,>=3.5.0->en-core-web-sm==3.5.0) (4.65.0)\n",
            "Requirement already satisfied: preshed<3.1.0,>=3.0.2 in /usr/local/lib/python3.9/dist-packages (from spacy<3.6.0,>=3.5.0->en-core-web-sm==3.5.0) (3.0.8)\n",
            "Requirement already satisfied: murmurhash<1.1.0,>=0.28.0 in /usr/local/lib/python3.9/dist-packages (from spacy<3.6.0,>=3.5.0->en-core-web-sm==3.5.0) (1.0.9)\n",
            "Requirement already satisfied: spacy-loggers<2.0.0,>=1.0.0 in /usr/local/lib/python3.9/dist-packages (from spacy<3.6.0,>=3.5.0->en-core-web-sm==3.5.0) (1.0.4)\n",
            "Requirement already satisfied: pydantic!=1.8,!=1.8.1,<1.11.0,>=1.7.4 in /usr/local/lib/python3.9/dist-packages (from spacy<3.6.0,>=3.5.0->en-core-web-sm==3.5.0) (1.10.7)\n",
            "Requirement already satisfied: srsly<3.0.0,>=2.4.3 in /usr/local/lib/python3.9/dist-packages (from spacy<3.6.0,>=3.5.0->en-core-web-sm==3.5.0) (2.4.6)\n",
            "Requirement already satisfied: numpy>=1.15.0 in /usr/local/lib/python3.9/dist-packages (from spacy<3.6.0,>=3.5.0->en-core-web-sm==3.5.0) (1.22.4)\n",
            "Requirement already satisfied: requests<3.0.0,>=2.13.0 in /usr/local/lib/python3.9/dist-packages (from spacy<3.6.0,>=3.5.0->en-core-web-sm==3.5.0) (2.27.1)\n",
            "Requirement already satisfied: packaging>=20.0 in /usr/local/lib/python3.9/dist-packages (from spacy<3.6.0,>=3.5.0->en-core-web-sm==3.5.0) (23.0)\n",
            "Requirement already satisfied: langcodes<4.0.0,>=3.2.0 in /usr/local/lib/python3.9/dist-packages (from spacy<3.6.0,>=3.5.0->en-core-web-sm==3.5.0) (3.3.0)\n",
            "Requirement already satisfied: wasabi<1.2.0,>=0.9.1 in /usr/local/lib/python3.9/dist-packages (from spacy<3.6.0,>=3.5.0->en-core-web-sm==3.5.0) (1.1.1)\n",
            "Requirement already satisfied: jinja2 in /usr/local/lib/python3.9/dist-packages (from spacy<3.6.0,>=3.5.0->en-core-web-sm==3.5.0) (3.1.2)\n",
            "Requirement already satisfied: smart-open<7.0.0,>=5.2.1 in /usr/local/lib/python3.9/dist-packages (from spacy<3.6.0,>=3.5.0->en-core-web-sm==3.5.0) (6.3.0)\n",
            "Requirement already satisfied: pathy>=0.10.0 in /usr/local/lib/python3.9/dist-packages (from spacy<3.6.0,>=3.5.0->en-core-web-sm==3.5.0) (0.10.1)\n",
            "Requirement already satisfied: thinc<8.2.0,>=8.1.8 in /usr/local/lib/python3.9/dist-packages (from spacy<3.6.0,>=3.5.0->en-core-web-sm==3.5.0) (8.1.9)\n",
            "Requirement already satisfied: cymem<2.1.0,>=2.0.2 in /usr/local/lib/python3.9/dist-packages (from spacy<3.6.0,>=3.5.0->en-core-web-sm==3.5.0) (2.0.7)\n",
            "Requirement already satisfied: typer<0.8.0,>=0.3.0 in /usr/local/lib/python3.9/dist-packages (from spacy<3.6.0,>=3.5.0->en-core-web-sm==3.5.0) (0.7.0)\n",
            "Requirement already satisfied: spacy-legacy<3.1.0,>=3.0.11 in /usr/local/lib/python3.9/dist-packages (from spacy<3.6.0,>=3.5.0->en-core-web-sm==3.5.0) (3.0.12)\n",
            "Requirement already satisfied: typing-extensions>=4.2.0 in /usr/local/lib/python3.9/dist-packages (from pydantic!=1.8,!=1.8.1,<1.11.0,>=1.7.4->spacy<3.6.0,>=3.5.0->en-core-web-sm==3.5.0) (4.5.0)\n",
            "Requirement already satisfied: certifi>=2017.4.17 in /usr/local/lib/python3.9/dist-packages (from requests<3.0.0,>=2.13.0->spacy<3.6.0,>=3.5.0->en-core-web-sm==3.5.0) (2022.12.7)\n",
            "Requirement already satisfied: urllib3<1.27,>=1.21.1 in /usr/local/lib/python3.9/dist-packages (from requests<3.0.0,>=2.13.0->spacy<3.6.0,>=3.5.0->en-core-web-sm==3.5.0) (1.26.15)\n",
            "Requirement already satisfied: charset-normalizer~=2.0.0 in /usr/local/lib/python3.9/dist-packages (from requests<3.0.0,>=2.13.0->spacy<3.6.0,>=3.5.0->en-core-web-sm==3.5.0) (2.0.12)\n",
            "Requirement already satisfied: idna<4,>=2.5 in /usr/local/lib/python3.9/dist-packages (from requests<3.0.0,>=2.13.0->spacy<3.6.0,>=3.5.0->en-core-web-sm==3.5.0) (3.4)\n",
            "Requirement already satisfied: confection<1.0.0,>=0.0.1 in /usr/local/lib/python3.9/dist-packages (from thinc<8.2.0,>=8.1.8->spacy<3.6.0,>=3.5.0->en-core-web-sm==3.5.0) (0.0.4)\n",
            "Requirement already satisfied: blis<0.8.0,>=0.7.8 in /usr/local/lib/python3.9/dist-packages (from thinc<8.2.0,>=8.1.8->spacy<3.6.0,>=3.5.0->en-core-web-sm==3.5.0) (0.7.9)\n",
            "Requirement already satisfied: click<9.0.0,>=7.1.1 in /usr/local/lib/python3.9/dist-packages (from typer<0.8.0,>=0.3.0->spacy<3.6.0,>=3.5.0->en-core-web-sm==3.5.0) (8.1.3)\n",
            "Requirement already satisfied: MarkupSafe>=2.0 in /usr/local/lib/python3.9/dist-packages (from jinja2->spacy<3.6.0,>=3.5.0->en-core-web-sm==3.5.0) (2.1.2)\n",
            "\u001b[38;5;2m✔ Download and installation successful\u001b[0m\n",
            "You can now load the package via spacy.load('en_core_web_sm')\n"
          ]
        }
      ]
    },
    {
      "cell_type": "code",
      "source": [
        "import pandas as pd\n",
        "import json\n",
        "import os\n",
        "os.chdir(r'/content/')\n",
        "\n",
        "with open('annotations.json', 'r') as f:\n",
        "    data = json.load(f)"
      ],
      "metadata": {
        "id": "fSzDm34EtL9l"
      },
      "id": "fSzDm34EtL9l",
      "execution_count": null,
      "outputs": []
    },
    {
      "cell_type": "code",
      "source": [
        "data"
      ],
      "metadata": {
        "colab": {
          "base_uri": "https://localhost:8080/"
        },
        "id": "yjfFdQ1NtqWH",
        "outputId": "34122082-f78f-4d94-f704-038d3757b156"
      },
      "id": "yjfFdQ1NtqWH",
      "execution_count": null,
      "outputs": [
        {
          "output_type": "execute_result",
          "data": {
            "text/plain": [
              "{'classes': ['FIRST NAME', 'FAMILY NAME', 'DOB', 'LICENCE ID', 'ZIM_LICENCE'],\n",
              " 'annotations': [['ZIMBABWEDRIVERSLICENCERTLS Hodarcensed to cnve mator vehicle of To chss osi ndcaed bee 3/15 3/15 3/15 ROADTRAFFICACIICHAPIFRI3.HOOWaMDCae Name MUROYI Sanelate Bhuray Signature: Ooto of Bim 0470372015 08/05/1992 Spedal Condis om 17448LM Cenlal Wehde Rein 22281649104',\n",
              "   {'entities': [[0, 26, 'ZIM_LICENCE'],\n",
              "     [143, 149, 'FAMILY NAME'],\n",
              "     [150, 158, 'FIRST NAME'],\n",
              "     [200, 210, 'DOB'],\n",
              "     [254, 265, 'LICENCE ID']]}],\n",
              "  ['ZIMBABWE DRIVERS LICENCERT.LD S Holder licensed to drive motor vehicle of the class (es) indicaled telow 3/15 3/15 5 3/15 ROADTRAFFICACTICHAPTERI3lOnqina/Duoicae Name MUROYI Sanelate ghama Signature: Dale of Birth 04/03/2015 08/05/1992 17448LM Spedal Conditions! Central Vehide Regisuy IdentityCard: 22-281649 H 04 ',\n",
              "   {'entities': [[0, 29, 'ZIM_LICENCE'],\n",
              "     [167, 173, 'FAMILY NAME'],\n",
              "     [174, 182, 'FIRST NAME'],\n",
              "     [225, 235, 'DOB'],\n",
              "     [300, 314, 'LICENCE ID']]}],\n",
              "  ['ZIMBABWE DRIVERS LICENCERT.LD T Holder licensed to drive motor vehicle of the class (es) indicaled below 3/16 3/16 5 3/16 ROADTRAFFICACTICHAPTERI3lOnqina/Duoicae Name MUKWAKWAMI Simbarashe Signature: Dale of Birth 05/04/2016 12/06/1991 28391KL Spedal Conditions! Southern Vehide Regisuy IdentityCard: 22-399176 H 05',\n",
              "   {'entities': [[0, 29, 'ZIM_LICENCE'],\n",
              "     [167, 177, 'FAMILY NAME'],\n",
              "     [178, 188, 'FIRST NAME'],\n",
              "     [225, 235, 'DOB'],\n",
              "     [301, 315, 'LICENCE ID']]}],\n",
              "  ['ZIMBABWE DRIVERS LICENCERT.LD S Holder licensed to drive motor vehicle of the class (es) indicaled below 3/15 3/15 5 3/15 ROADTRAFFICACTICHAPTERI3lOnqina/Duoicae Name CHIWENGA Tatenda Signature: Dale of Birth 07/01/2015 01/09/1990 18764LM Spedal Conditions! Northern Vehide Regisuy IdentityCard: 22-178936 H 07',\n",
              "   {'entities': [[0, 29, 'ZIM_LICENCE'],\n",
              "     [167, 175, 'FAMILY NAME'],\n",
              "     [176, 183, 'FIRST NAME'],\n",
              "     [220, 230, 'DOB'],\n",
              "     [296, 310, 'LICENCE ID']]}],\n",
              "  ['ZIMBABWE DRIVERS LICENCERT.LD R Holder licensed to drive motor vehicle of the class (es) indicaled below 3/14 3/14 5 3/14 ROADTRAFFICACTICHAPTERI3lOnqina/Duoicae Name MUTEMACHANI Tapiwa Signature: Dale of Birth 12/08/2014 05/12/1993 16837KL Spedal Conditions! Western Vehide Regisuy IdentityCard: 22-260984 H 12',\n",
              "   {'entities': [[0, 29, 'ZIM_LICENCE'],\n",
              "     [167, 178, 'FAMILY NAME'],\n",
              "     [179, 185, 'FIRST NAME'],\n",
              "     [222, 232, 'DOB'],\n",
              "     [297, 311, 'LICENCE ID']]}],\n",
              "  ['ZIMBABWE DRIVERS LICENCERT.LD S Holder licensed to drive motor vehicle of the class (es) indicaled below 3/15 3/15 5 3/15 ROADTRAFFICACTICHAPTERI3lOnqina/Duoicae Name CHIKOWORE Nyasha Signature: Dale of Birth 09/02/2015 03/04/1988 17682LM Spedal Conditions! Eastern Vehide Regisuy IdentityCard: 22-174859 H 09',\n",
              "   {'entities': [[0, 29, 'ZIM_LICENCE'],\n",
              "     [167, 176, 'FAMILY NAME'],\n",
              "     [177, 183, 'FIRST NAME'],\n",
              "     [220, 230, 'DOB'],\n",
              "     [295, 309, 'LICENCE ID']]}],\n",
              "  ['ZIMBABWE DRIVERS LICENCERT.LD T Holder licensed to drive motor vehicle of the class (es) indicaled below 3/16 3/16 5 3/16 ROADTRAFFICACTICHAPTERI3lOnqina/Duoicae Name MUSONDA Tarisai Signature: Dale of Birth 11/06/2016 08/07/1994 29987KL Spedal Conditions! Northern Vehide Regisuy IdentityCard: 22-301627 H 11',\n",
              "   {'entities': [[0, 29, 'ZIM_LICENCE'],\n",
              "     [167, 174, 'FAMILY NAME'],\n",
              "     [175, 182, 'FIRST NAME'],\n",
              "     [219, 229, 'DOB'],\n",
              "     [295, 309, 'LICENCE ID']]}],\n",
              "  ['ZIMBABWE DRIVERS LICENCERT.LD S Holder licensed to drive motor vehicle of the class (es) indicaled below 3/15 3/15 5 3/15 ROADTRAFFICACTICHAPTERI3lOnqina/Duoicae Name MUJAKACHI Courage Signature: Dale of Birth 02/10/2015 09/11/1991 19683LM Spedal Conditions! Central Vehide Regisuy IdentityCard: 22-197834 H 02',\n",
              "   {'entities': [[0, 29, 'ZIM_LICENCE'],\n",
              "     [167, 176, 'FAMILY NAME'],\n",
              "     [177, 184, 'FIRST NAME'],\n",
              "     [221, 231, 'DOB'],\n",
              "     [296, 310, 'LICENCE ID']]}],\n",
              "  ['ZIMBABWE DRIVERS LICENCERT.LD R Holder licensed to drive motor vehicle of the class (es) indicaled below 3/14 3/14 5 3/14 ROADTRAFFICACTICHAPTERI3lOnqina/Duoicae Name MUSHAKWE Darlington Signature: Dale of Birth 06/05/201 09/11/1991 19683LM Spedal Conditions! Central Vehide Regisuy IdentityCard: 22-197834 H 02',\n",
              "   {'entities': [[0, 29, 'ZIM_LICENCE'],\n",
              "     [167, 175, 'FAMILY NAME'],\n",
              "     [176, 186, 'FIRST NAME'],\n",
              "     [222, 232, 'DOB'],\n",
              "     [297, 311, 'LICENCE ID']]}]]}"
            ]
          },
          "metadata": {},
          "execution_count": 12
        }
      ]
    },
    {
      "cell_type": "code",
      "source": [
        "entity_name = \"FIRST NAME\"\n",
        "\n",
        "train_data = data['annotations']\n",
        "train_data = [tuple(i) for i in train_data]"
      ],
      "metadata": {
        "id": "_23Byqq5tSOz"
      },
      "id": "_23Byqq5tSOz",
      "execution_count": null,
      "outputs": []
    },
    {
      "cell_type": "code",
      "source": [
        "train_data"
      ],
      "metadata": {
        "colab": {
          "base_uri": "https://localhost:8080/"
        },
        "id": "DSW35ugotY7P",
        "outputId": "464219ee-0006-4a79-da7f-ef6545031df9"
      },
      "id": "DSW35ugotY7P",
      "execution_count": null,
      "outputs": [
        {
          "output_type": "execute_result",
          "data": {
            "text/plain": [
              "[('ZIMBABWEDRIVERSLICENCERTLS Hodarcensed to cnve mator vehicle of To chss osi ndcaed bee 3/15 3/15 3/15 ROADTRAFFICACIICHAPIFRI3.HOOWaMDCae Name MUROYI Sanelate Bhuray Signature: Ooto of Bim 0470372015 08/05/1992 Spedal Condis om 17448LM Cenlal Wehde Rein 22281649104',\n",
              "  {'entities': [[0, 26, 'ZIM_LICENCE'],\n",
              "    [143, 149, 'FAMILY NAME'],\n",
              "    [150, 158, 'FIRST NAME'],\n",
              "    [200, 210, 'DOB'],\n",
              "    [254, 265, 'LICENCE ID']]}),\n",
              " ('ZIMBABWE DRIVERS LICENCERT.LD S Holder licensed to drive motor vehicle of the class (es) indicaled telow 3/15 3/15 5 3/15 ROADTRAFFICACTICHAPTERI3lOnqina/Duoicae Name MUROYI Sanelate ghama Signature: Dale of Birth 04/03/2015 08/05/1992 17448LM Spedal Conditions! Central Vehide Regisuy IdentityCard: 22-281649 H 04 ',\n",
              "  {'entities': [[0, 29, 'ZIM_LICENCE'],\n",
              "    [167, 173, 'FAMILY NAME'],\n",
              "    [174, 182, 'FIRST NAME'],\n",
              "    [225, 235, 'DOB'],\n",
              "    [300, 314, 'LICENCE ID']]}),\n",
              " ('ZIMBABWE DRIVERS LICENCERT.LD T Holder licensed to drive motor vehicle of the class (es) indicaled below 3/16 3/16 5 3/16 ROADTRAFFICACTICHAPTERI3lOnqina/Duoicae Name MUKWAKWAMI Simbarashe Signature: Dale of Birth 05/04/2016 12/06/1991 28391KL Spedal Conditions! Southern Vehide Regisuy IdentityCard: 22-399176 H 05',\n",
              "  {'entities': [[0, 29, 'ZIM_LICENCE'],\n",
              "    [167, 177, 'FAMILY NAME'],\n",
              "    [178, 188, 'FIRST NAME'],\n",
              "    [225, 235, 'DOB'],\n",
              "    [301, 315, 'LICENCE ID']]}),\n",
              " ('ZIMBABWE DRIVERS LICENCERT.LD S Holder licensed to drive motor vehicle of the class (es) indicaled below 3/15 3/15 5 3/15 ROADTRAFFICACTICHAPTERI3lOnqina/Duoicae Name CHIWENGA Tatenda Signature: Dale of Birth 07/01/2015 01/09/1990 18764LM Spedal Conditions! Northern Vehide Regisuy IdentityCard: 22-178936 H 07',\n",
              "  {'entities': [[0, 29, 'ZIM_LICENCE'],\n",
              "    [167, 175, 'FAMILY NAME'],\n",
              "    [176, 183, 'FIRST NAME'],\n",
              "    [220, 230, 'DOB'],\n",
              "    [296, 310, 'LICENCE ID']]}),\n",
              " ('ZIMBABWE DRIVERS LICENCERT.LD R Holder licensed to drive motor vehicle of the class (es) indicaled below 3/14 3/14 5 3/14 ROADTRAFFICACTICHAPTERI3lOnqina/Duoicae Name MUTEMACHANI Tapiwa Signature: Dale of Birth 12/08/2014 05/12/1993 16837KL Spedal Conditions! Western Vehide Regisuy IdentityCard: 22-260984 H 12',\n",
              "  {'entities': [[0, 29, 'ZIM_LICENCE'],\n",
              "    [167, 178, 'FAMILY NAME'],\n",
              "    [179, 185, 'FIRST NAME'],\n",
              "    [222, 232, 'DOB'],\n",
              "    [297, 311, 'LICENCE ID']]}),\n",
              " ('ZIMBABWE DRIVERS LICENCERT.LD S Holder licensed to drive motor vehicle of the class (es) indicaled below 3/15 3/15 5 3/15 ROADTRAFFICACTICHAPTERI3lOnqina/Duoicae Name CHIKOWORE Nyasha Signature: Dale of Birth 09/02/2015 03/04/1988 17682LM Spedal Conditions! Eastern Vehide Regisuy IdentityCard: 22-174859 H 09',\n",
              "  {'entities': [[0, 29, 'ZIM_LICENCE'],\n",
              "    [167, 176, 'FAMILY NAME'],\n",
              "    [177, 183, 'FIRST NAME'],\n",
              "    [220, 230, 'DOB'],\n",
              "    [295, 309, 'LICENCE ID']]}),\n",
              " ('ZIMBABWE DRIVERS LICENCERT.LD T Holder licensed to drive motor vehicle of the class (es) indicaled below 3/16 3/16 5 3/16 ROADTRAFFICACTICHAPTERI3lOnqina/Duoicae Name MUSONDA Tarisai Signature: Dale of Birth 11/06/2016 08/07/1994 29987KL Spedal Conditions! Northern Vehide Regisuy IdentityCard: 22-301627 H 11',\n",
              "  {'entities': [[0, 29, 'ZIM_LICENCE'],\n",
              "    [167, 174, 'FAMILY NAME'],\n",
              "    [175, 182, 'FIRST NAME'],\n",
              "    [219, 229, 'DOB'],\n",
              "    [295, 309, 'LICENCE ID']]}),\n",
              " ('ZIMBABWE DRIVERS LICENCERT.LD S Holder licensed to drive motor vehicle of the class (es) indicaled below 3/15 3/15 5 3/15 ROADTRAFFICACTICHAPTERI3lOnqina/Duoicae Name MUJAKACHI Courage Signature: Dale of Birth 02/10/2015 09/11/1991 19683LM Spedal Conditions! Central Vehide Regisuy IdentityCard: 22-197834 H 02',\n",
              "  {'entities': [[0, 29, 'ZIM_LICENCE'],\n",
              "    [167, 176, 'FAMILY NAME'],\n",
              "    [177, 184, 'FIRST NAME'],\n",
              "    [221, 231, 'DOB'],\n",
              "    [296, 310, 'LICENCE ID']]}),\n",
              " ('ZIMBABWE DRIVERS LICENCERT.LD R Holder licensed to drive motor vehicle of the class (es) indicaled below 3/14 3/14 5 3/14 ROADTRAFFICACTICHAPTERI3lOnqina/Duoicae Name MUSHAKWE Darlington Signature: Dale of Birth 06/05/201 09/11/1991 19683LM Spedal Conditions! Central Vehide Regisuy IdentityCard: 22-197834 H 02',\n",
              "  {'entities': [[0, 29, 'ZIM_LICENCE'],\n",
              "    [167, 175, 'FAMILY NAME'],\n",
              "    [176, 186, 'FIRST NAME'],\n",
              "    [222, 232, 'DOB'],\n",
              "    [297, 311, 'LICENCE ID']]})]"
            ]
          },
          "metadata": {},
          "execution_count": 14
        }
      ]
    },
    {
      "cell_type": "code",
      "source": [
        "for i in train_data:\n",
        "    if i[1]['entities'] == []:\n",
        "        i[1]['entities'] = (0, 0, entity_name)\n",
        "    else:\n",
        "        i[1]['entities'][0] = tuple(i[1]['entities'][0])"
      ],
      "metadata": {
        "id": "KgZsc9oSt6yQ"
      },
      "id": "KgZsc9oSt6yQ",
      "execution_count": null,
      "outputs": []
    },
    {
      "cell_type": "code",
      "source": [
        "train_data"
      ],
      "metadata": {
        "colab": {
          "base_uri": "https://localhost:8080/"
        },
        "id": "MCkGeWZ9uE3D",
        "outputId": "5011ff22-edfa-483a-e9d8-a5b97efd0edc"
      },
      "id": "MCkGeWZ9uE3D",
      "execution_count": null,
      "outputs": [
        {
          "output_type": "execute_result",
          "data": {
            "text/plain": [
              "[('ZIMBABWEDRIVERSLICENCERTLS Hodarcensed to cnve mator vehicle of To chss osi ndcaed bee 3/15 3/15 3/15 ROADTRAFFICACIICHAPIFRI3.HOOWaMDCae Name MUROYI Sanelate Bhuray Signature: Ooto of Bim 0470372015 08/05/1992 Spedal Condis om 17448LM Cenlal Wehde Rein 22281649104',\n",
              "  {'entities': [(0, 26, 'ZIM_LICENCE'),\n",
              "    [143, 149, 'FAMILY NAME'],\n",
              "    [150, 158, 'FIRST NAME'],\n",
              "    [200, 210, 'DOB'],\n",
              "    [254, 265, 'LICENCE ID']]}),\n",
              " ('ZIMBABWE DRIVERS LICENCERT.LD S Holder licensed to drive motor vehicle of the class (es) indicaled telow 3/15 3/15 5 3/15 ROADTRAFFICACTICHAPTERI3lOnqina/Duoicae Name MUROYI Sanelate ghama Signature: Dale of Birth 04/03/2015 08/05/1992 17448LM Spedal Conditions! Central Vehide Regisuy IdentityCard: 22-281649 H 04 ',\n",
              "  {'entities': [(0, 29, 'ZIM_LICENCE'),\n",
              "    [167, 173, 'FAMILY NAME'],\n",
              "    [174, 182, 'FIRST NAME'],\n",
              "    [225, 235, 'DOB'],\n",
              "    [300, 314, 'LICENCE ID']]}),\n",
              " ('ZIMBABWE DRIVERS LICENCERT.LD T Holder licensed to drive motor vehicle of the class (es) indicaled below 3/16 3/16 5 3/16 ROADTRAFFICACTICHAPTERI3lOnqina/Duoicae Name MUKWAKWAMI Simbarashe Signature: Dale of Birth 05/04/2016 12/06/1991 28391KL Spedal Conditions! Southern Vehide Regisuy IdentityCard: 22-399176 H 05',\n",
              "  {'entities': [(0, 29, 'ZIM_LICENCE'),\n",
              "    [167, 177, 'FAMILY NAME'],\n",
              "    [178, 188, 'FIRST NAME'],\n",
              "    [225, 235, 'DOB'],\n",
              "    [301, 315, 'LICENCE ID']]}),\n",
              " ('ZIMBABWE DRIVERS LICENCERT.LD S Holder licensed to drive motor vehicle of the class (es) indicaled below 3/15 3/15 5 3/15 ROADTRAFFICACTICHAPTERI3lOnqina/Duoicae Name CHIWENGA Tatenda Signature: Dale of Birth 07/01/2015 01/09/1990 18764LM Spedal Conditions! Northern Vehide Regisuy IdentityCard: 22-178936 H 07',\n",
              "  {'entities': [(0, 29, 'ZIM_LICENCE'),\n",
              "    [167, 175, 'FAMILY NAME'],\n",
              "    [176, 183, 'FIRST NAME'],\n",
              "    [220, 230, 'DOB'],\n",
              "    [296, 310, 'LICENCE ID']]}),\n",
              " ('ZIMBABWE DRIVERS LICENCERT.LD R Holder licensed to drive motor vehicle of the class (es) indicaled below 3/14 3/14 5 3/14 ROADTRAFFICACTICHAPTERI3lOnqina/Duoicae Name MUTEMACHANI Tapiwa Signature: Dale of Birth 12/08/2014 05/12/1993 16837KL Spedal Conditions! Western Vehide Regisuy IdentityCard: 22-260984 H 12',\n",
              "  {'entities': [(0, 29, 'ZIM_LICENCE'),\n",
              "    [167, 178, 'FAMILY NAME'],\n",
              "    [179, 185, 'FIRST NAME'],\n",
              "    [222, 232, 'DOB'],\n",
              "    [297, 311, 'LICENCE ID']]}),\n",
              " ('ZIMBABWE DRIVERS LICENCERT.LD S Holder licensed to drive motor vehicle of the class (es) indicaled below 3/15 3/15 5 3/15 ROADTRAFFICACTICHAPTERI3lOnqina/Duoicae Name CHIKOWORE Nyasha Signature: Dale of Birth 09/02/2015 03/04/1988 17682LM Spedal Conditions! Eastern Vehide Regisuy IdentityCard: 22-174859 H 09',\n",
              "  {'entities': [(0, 29, 'ZIM_LICENCE'),\n",
              "    [167, 176, 'FAMILY NAME'],\n",
              "    [177, 183, 'FIRST NAME'],\n",
              "    [220, 230, 'DOB'],\n",
              "    [295, 309, 'LICENCE ID']]}),\n",
              " ('ZIMBABWE DRIVERS LICENCERT.LD T Holder licensed to drive motor vehicle of the class (es) indicaled below 3/16 3/16 5 3/16 ROADTRAFFICACTICHAPTERI3lOnqina/Duoicae Name MUSONDA Tarisai Signature: Dale of Birth 11/06/2016 08/07/1994 29987KL Spedal Conditions! Northern Vehide Regisuy IdentityCard: 22-301627 H 11',\n",
              "  {'entities': [(0, 29, 'ZIM_LICENCE'),\n",
              "    [167, 174, 'FAMILY NAME'],\n",
              "    [175, 182, 'FIRST NAME'],\n",
              "    [219, 229, 'DOB'],\n",
              "    [295, 309, 'LICENCE ID']]}),\n",
              " ('ZIMBABWE DRIVERS LICENCERT.LD S Holder licensed to drive motor vehicle of the class (es) indicaled below 3/15 3/15 5 3/15 ROADTRAFFICACTICHAPTERI3lOnqina/Duoicae Name MUJAKACHI Courage Signature: Dale of Birth 02/10/2015 09/11/1991 19683LM Spedal Conditions! Central Vehide Regisuy IdentityCard: 22-197834 H 02',\n",
              "  {'entities': [(0, 29, 'ZIM_LICENCE'),\n",
              "    [167, 176, 'FAMILY NAME'],\n",
              "    [177, 184, 'FIRST NAME'],\n",
              "    [221, 231, 'DOB'],\n",
              "    [296, 310, 'LICENCE ID']]}),\n",
              " ('ZIMBABWE DRIVERS LICENCERT.LD R Holder licensed to drive motor vehicle of the class (es) indicaled below 3/14 3/14 5 3/14 ROADTRAFFICACTICHAPTERI3lOnqina/Duoicae Name MUSHAKWE Darlington Signature: Dale of Birth 06/05/201 09/11/1991 19683LM Spedal Conditions! Central Vehide Regisuy IdentityCard: 22-197834 H 02',\n",
              "  {'entities': [(0, 29, 'ZIM_LICENCE'),\n",
              "    [167, 175, 'FAMILY NAME'],\n",
              "    [176, 186, 'FIRST NAME'],\n",
              "    [222, 232, 'DOB'],\n",
              "    [297, 311, 'LICENCE ID']]})]"
            ]
          },
          "metadata": {},
          "execution_count": 16
        }
      ]
    },
    {
      "cell_type": "markdown",
      "id": "a2342f2c",
      "metadata": {
        "id": "a2342f2c"
      },
      "source": [
        "##### Author : Deepak John Reji\n",
        "\n",
        "\n",
        "Youtube: https://youtu.be/9mXoGxAn6pM\n",
        "\n",
        "Linkedin: https://www.linkedin.com/in/deepak-john-reji/"
      ]
    },
    {
      "cell_type": "markdown",
      "id": "83d7d299",
      "metadata": {
        "id": "83d7d299"
      },
      "source": [
        "This Notebook details on te steps to train your Custom NER using new spacy format\n",
        "![spacy_model.PNG](attachment:spacy_model.PNG)"
      ]
    },
    {
      "cell_type": "markdown",
      "id": "68306e59",
      "metadata": {
        "id": "68306e59"
      },
      "source": [
        "### Step-1 : Creation of Training Data"
      ]
    },
    {
      "cell_type": "markdown",
      "id": "3caea028",
      "metadata": {
        "id": "3caea028"
      },
      "source": [
        "#### Annotate your data"
      ]
    },
    {
      "cell_type": "markdown",
      "id": "691a36fc",
      "metadata": {
        "id": "691a36fc"
      },
      "source": [
        "https://prodi.gy/docs/named-entity-recognition"
      ]
    },
    {
      "cell_type": "code",
      "execution_count": null,
      "id": "8c66a85f",
      "metadata": {
        "id": "8c66a85f"
      },
      "outputs": [],
      "source": [
        "TRAIN_DATA = [('The F15 aircraft uses a lot of fuel', {'entities': [(4, 7, 'aircraft')]}),\n",
        " ('did you see the F16 landing?', {'entities': [(16, 19, 'aircraft')]}),\n",
        " ('how many missiles can a F35 carry', {'entities': [(24, 27, 'aircraft')]}),\n",
        " ('is the F15 outdated', {'entities': [(7, 10, 'aircraft')]}),\n",
        " ('does the US still train pilots to dog fight?',\n",
        "  {'entities': [(0, 0, 'aircraft')]}),\n",
        " ('how long does it take to train a F16 pilot',\n",
        "  {'entities': [(33, 36, 'aircraft')]}),\n",
        " ('how much does a F35 cost', {'entities': [(16, 19, 'aircraft')]}),\n",
        " ('would it be possible to steal a F15', {'entities': [(32, 35, 'aircraft')]}),\n",
        " ('who manufactures the F16', {'entities': [(21, 24, 'aircraft')]}),\n",
        " ('how many countries have bought the F35',\n",
        "  {'entities': [(35, 38, 'aircraft')]}),\n",
        " ('is the F35 a waste of money', {'entities': [(7, 10, 'aircraft')]})]"
      ]
    },
    {
      "cell_type": "markdown",
      "id": "9d800e10",
      "metadata": {
        "id": "9d800e10"
      },
      "source": [
        "    "
      ]
    },
    {
      "cell_type": "markdown",
      "id": "5b730eed",
      "metadata": {
        "id": "5b730eed"
      },
      "source": [
        "### Step-2 : Conversion of Data to .spacy format\n",
        "\n",
        "Copy the training data and below script and run from command line"
      ]
    },
    {
      "cell_type": "code",
      "execution_count": null,
      "id": "133b7701",
      "metadata": {
        "colab": {
          "base_uri": "https://localhost:8080/"
        },
        "id": "133b7701",
        "outputId": "cb20c792-3332-499c-83b1-33a520b95a42"
      },
      "outputs": [
        {
          "output_type": "stream",
          "name": "stderr",
          "text": [
            "100%|██████████| 9/9 [00:00<00:00, 781.98it/s]\n"
          ]
        }
      ],
      "source": [
        "import pandas as pd\n",
        "import os\n",
        "from tqdm import tqdm\n",
        "import spacy\n",
        "from spacy.tokens import DocBin\n",
        "\n",
        "#nlp = spacy.blank(\"en\") # load a new spacy model\n",
        "nlp = spacy.load(\"en_core_web_sm\") # load other spacy model\n",
        "\n",
        "db = DocBin() # create a DocBin object\n",
        "\n",
        "for text, annot in tqdm(train_data): # data in previous format\n",
        "    doc = nlp.make_doc(text) # create doc object from text\n",
        "    ents = []\n",
        "    for start, end, label in annot[\"entities\"]: # add character indexes\n",
        "        span = doc.char_span(start, end, label=label, alignment_mode=\"contract\")\n",
        "        if span is None:\n",
        "            print(\"Skipping entity\")\n",
        "        else:\n",
        "            ents.append(span)\n",
        "    doc.ents = ents # label the text with the ents\n",
        "    db.add(doc)\n",
        "\n",
        "\n",
        "db.to_disk(\"./train.spacy\") # save the docbin object"
      ]
    },
    {
      "cell_type": "markdown",
      "id": "ae80ff7e",
      "metadata": {
        "id": "ae80ff7e"
      },
      "source": [
        "### Step-3 : Creating the Config file for training the model\n",
        "\n",
        "https://spacy.io/usage/training#config"
      ]
    },
    {
      "cell_type": "markdown",
      "id": "fad7d09d",
      "metadata": {
        "id": "fad7d09d"
      },
      "source": [
        "- Head on to Quickstart section of the page and select your configuration. (Make sure you mark NER, you can select the language based on your requirement)\n",
        "\n",
        "![image.png](attachment:image.png)"
      ]
    },
    {
      "cell_type": "markdown",
      "id": "e00bb02c",
      "metadata": {
        "id": "e00bb02c"
      },
      "source": [
        "- Once the configurations are set, you can download it.\n",
        "\n",
        "![image.png](attachment:image.png)"
      ]
    },
    {
      "cell_type": "markdown",
      "id": "9b658d7b",
      "metadata": {
        "id": "9b658d7b"
      },
      "source": [
        "### Step-4 : Filling the Config file\n",
        "\n",
        "Go to the directory where base_config.cfg is stored and then run this command"
      ]
    },
    {
      "cell_type": "markdown",
      "id": "4ed58529",
      "metadata": {
        "id": "4ed58529"
      },
      "source": [
        "python -m spacy init fill-config base_config.cfg config.cfg"
      ]
    },
    {
      "cell_type": "code",
      "source": [
        "!python -m spacy init fill-config base_config.cfg config.cfg"
      ],
      "metadata": {
        "colab": {
          "base_uri": "https://localhost:8080/"
        },
        "id": "82Z_-pYlvLYa",
        "outputId": "18f88948-bc96-4d24-b75a-849cc1e6bcb4"
      },
      "id": "82Z_-pYlvLYa",
      "execution_count": null,
      "outputs": [
        {
          "output_type": "stream",
          "name": "stdout",
          "text": [
            "2023-04-14 05:40:27.341434: W tensorflow/compiler/tf2tensorrt/utils/py_utils.cc:38] TF-TRT Warning: Could not find TensorRT\n",
            "\u001b[38;5;2m✔ Auto-filled config with all values\u001b[0m\n",
            "\u001b[38;5;2m✔ Saved config\u001b[0m\n",
            "config.cfg\n",
            "You can now add your data and train your pipeline:\n",
            "python -m spacy train config.cfg --paths.train ./train.spacy --paths.dev ./dev.spacy\n"
          ]
        }
      ]
    },
    {
      "cell_type": "markdown",
      "id": "87a1a3c3",
      "metadata": {
        "id": "87a1a3c3"
      },
      "source": [
        "      "
      ]
    },
    {
      "cell_type": "markdown",
      "id": "76cc35cd",
      "metadata": {
        "id": "76cc35cd"
      },
      "source": [
        "### Step-5 : Run the Training configuration"
      ]
    },
    {
      "cell_type": "code",
      "execution_count": null,
      "id": "515485df",
      "metadata": {
        "colab": {
          "base_uri": "https://localhost:8080/"
        },
        "id": "515485df",
        "outputId": "d3ced10d-35ec-42b2-d4d4-2d5f5ac99271"
      },
      "outputs": [
        {
          "output_type": "stream",
          "name": "stdout",
          "text": [
            "2023-04-14 05:40:38.701958: W tensorflow/compiler/tf2tensorrt/utils/py_utils.cc:38] TF-TRT Warning: Could not find TensorRT\n",
            "\u001b[38;5;2m✔ Created output directory: output\u001b[0m\n",
            "\u001b[38;5;4mℹ Saving to output directory: output\u001b[0m\n",
            "\u001b[38;5;4mℹ Using CPU\u001b[0m\n",
            "\u001b[1m\n",
            "=========================== Initializing pipeline ===========================\u001b[0m\n",
            "[2023-04-14 05:40:42,260] [INFO] Set up nlp object from config\n",
            "[2023-04-14 05:40:42,273] [INFO] Pipeline: ['tok2vec', 'ner']\n",
            "[2023-04-14 05:40:42,277] [INFO] Created vocabulary\n",
            "[2023-04-14 05:40:42,278] [INFO] Finished initializing nlp object\n",
            "[2023-04-14 05:40:42,475] [INFO] Initialized pipeline components: ['tok2vec', 'ner']\n",
            "\u001b[38;5;2m✔ Initialized pipeline\u001b[0m\n",
            "\u001b[1m\n",
            "============================= Training pipeline =============================\u001b[0m\n",
            "\u001b[38;5;4mℹ Pipeline: ['tok2vec', 'ner']\u001b[0m\n",
            "\u001b[38;5;4mℹ Initial learn rate: 0.001\u001b[0m\n",
            "E    #       LOSS TOK2VEC  LOSS NER  ENTS_F  ENTS_P  ENTS_R  SCORE \n",
            "---  ------  ------------  --------  ------  ------  ------  ------\n",
            "  0       0          0.00     50.55    0.00    0.00    0.00    0.00\n",
            " 41     200        188.26   2010.52  100.00  100.00  100.00    1.00\n",
            " 91     400          0.00      0.00  100.00  100.00  100.00    1.00\n",
            "158     600          0.00      0.00  100.00  100.00  100.00    1.00\n",
            "240     800          0.00      0.00  100.00  100.00  100.00    1.00\n",
            "340    1000          0.00      0.00  100.00  100.00  100.00    1.00\n",
            "440    1200          0.00      0.00  100.00  100.00  100.00    1.00\n",
            "603    1400          0.00      0.00  100.00  100.00  100.00    1.00\n",
            "803    1600          0.00      0.00  100.00  100.00  100.00    1.00\n",
            "1003    1800          0.00      0.00  100.00  100.00  100.00    1.00\n",
            "\u001b[38;5;2m✔ Saved pipeline to output directory\u001b[0m\n",
            "output/model-last\n"
          ]
        }
      ],
      "source": [
        "!python -m spacy train config.cfg --output ./output --paths.train ./train.spacy --paths.dev ./train.spacy"
      ]
    },
    {
      "cell_type": "markdown",
      "id": "405cc45e",
      "metadata": {
        "id": "405cc45e"
      },
      "source": [
        "![image.png](attachment:image.png)"
      ]
    },
    {
      "cell_type": "code",
      "execution_count": null,
      "id": "f77ea072",
      "metadata": {
        "colab": {
          "base_uri": "https://localhost:8080/",
          "height": 87
        },
        "id": "f77ea072",
        "outputId": "1759e463-7a19-4731-9265-401dc1a630c9"
      },
      "outputs": [
        {
          "output_type": "display_data",
          "data": {
            "text/plain": [
              "<IPython.core.display.HTML object>"
            ],
            "text/html": [
              "<span class=\"tex2jax_ignore\"><div class=\"entities\" style=\"line-height: 2.5; direction: ltr\">\n",
              "<mark class=\"entity\" style=\"background: #ddd; padding: 0.45em 0.6em; margin: 0 0.25em; line-height: 1; border-radius: 0.35em;\">\n",
              "    ZIMBABWE DRIVERS LICENCERT.LD\n",
              "    <span style=\"font-size: 0.8em; font-weight: bold; line-height: 1; border-radius: 0.35em; vertical-align: middle; margin-left: 0.5rem\">ZIM_LICENCE</span>\n",
              "</mark>\n",
              " T Holder licensed to drive motor vehicle of the class (es) indicaled below 3/16 3/16 5 3/16 ROADTRAFFICACTICHAPTERI3lOnqina/Duoicae Name \n",
              "<mark class=\"entity\" style=\"background: #ddd; padding: 0.45em 0.6em; margin: 0 0.25em; line-height: 1; border-radius: 0.35em;\">\n",
              "    MUSONDA\n",
              "    <span style=\"font-size: 0.8em; font-weight: bold; line-height: 1; border-radius: 0.35em; vertical-align: middle; margin-left: 0.5rem\">FAMILY NAME</span>\n",
              "</mark>\n",
              " \n",
              "<mark class=\"entity\" style=\"background: #ddd; padding: 0.45em 0.6em; margin: 0 0.25em; line-height: 1; border-radius: 0.35em;\">\n",
              "    Tarisai\n",
              "    <span style=\"font-size: 0.8em; font-weight: bold; line-height: 1; border-radius: 0.35em; vertical-align: middle; margin-left: 0.5rem\">FIRST NAME</span>\n",
              "</mark>\n",
              " Signature: Dale of Birth 11/06/2016 \n",
              "<mark class=\"entity\" style=\"background: #ddd; padding: 0.45em 0.6em; margin: 0 0.25em; line-height: 1; border-radius: 0.35em;\">\n",
              "    08/07/1994\n",
              "    <span style=\"font-size: 0.8em; font-weight: bold; line-height: 1; border-radius: 0.35em; vertical-align: middle; margin-left: 0.5rem\">DOB</span>\n",
              "</mark>\n",
              " 29987KL Spedal Conditions! Northern Vehide Regisuy IdentityCard: \n",
              "<mark class=\"entity\" style=\"background: #ddd; padding: 0.45em 0.6em; margin: 0 0.25em; line-height: 1; border-radius: 0.35em;\">\n",
              "    22-301627H11\n",
              "    <span style=\"font-size: 0.8em; font-weight: bold; line-height: 1; border-radius: 0.35em; vertical-align: middle; margin-left: 0.5rem\">LICENCE ID</span>\n",
              "</mark>\n",
              "</div></span>"
            ]
          },
          "metadata": {}
        }
      ],
      "source": [
        "nlp1 = spacy.load(r\"/content/output/model-best\") #load the best model\n",
        "doc = nlp1(\"ZIMBABWE DRIVERS LICENCERT.LD T Holder licensed to drive motor vehicle of the class (es) indicaled below 3/16 3/16 5 3/16 ROADTRAFFICACTICHAPTERI3lOnqina/Duoicae Name MUSONDA Tarisai Signature: Dale of Birth 11/06/2016 08/07/1994 29987KL Spedal Conditions! Northern Vehide Regisuy IdentityCard: 22-301627H11\") # input sample text\n",
        "\n",
        "spacy.displacy.render(doc, style=\"ent\", jupyter=True) # display in Jupyter"
      ]
    },
    {
      "cell_type": "code",
      "execution_count": null,
      "id": "d98bbfdd",
      "metadata": {
        "colab": {
          "base_uri": "https://localhost:8080/"
        },
        "id": "d98bbfdd",
        "outputId": "69b88187-36d9-43b4-d9b6-6fe987123d81"
      },
      "outputs": [
        {
          "output_type": "execute_result",
          "data": {
            "text/plain": [
              "BWNGZICENCE SOUTH AFRICA ZA CARTADECONDUCAO DS PAUL IDNo. 02/6502225129088 HALE Birth 22/01/19o5 ZA Restricto LicenceNumbir 206100082R6M No..1 Valia 27/09/2014-26/09/2019 Istued US Codle: EC Vchiciereatrietion 0 Firstisgue 7/02/200115/59/2012 PrrtvngPert C.P Kyte25/09/2016"
            ]
          },
          "metadata": {},
          "execution_count": 25
        }
      ],
      "source": [
        "doc"
      ]
    },
    {
      "cell_type": "code",
      "source": [
        "import shutil\n",
        "\n",
        "# Replace 'folder_name' with the name of your folder\n",
        "folder_name = '/content/output'\n",
        "\n",
        "# Replace 'zip_name' with the name you want to give to your zip file\n",
        "zip_name = 'output_ner_ZIM_L'\n",
        "\n",
        "# Compress the folder and save it as a zip file in the temporary space\n",
        "shutil.make_archive(zip_name, 'zip', folder_name)\n",
        "\n",
        "# Download the zip file to your local machine\n",
        "from google.colab import files\n",
        "files.download(zip_name + '.zip')"
      ],
      "metadata": {
        "colab": {
          "base_uri": "https://localhost:8080/",
          "height": 34
        },
        "id": "m7r6TMjyxm88",
        "outputId": "0ff16735-f2f8-4d00-ed3f-538dea545366"
      },
      "id": "m7r6TMjyxm88",
      "execution_count": null,
      "outputs": [
        {
          "output_type": "display_data",
          "data": {
            "text/plain": [
              "<IPython.core.display.Javascript object>"
            ],
            "application/javascript": [
              "\n",
              "    async function download(id, filename, size) {\n",
              "      if (!google.colab.kernel.accessAllowed) {\n",
              "        return;\n",
              "      }\n",
              "      const div = document.createElement('div');\n",
              "      const label = document.createElement('label');\n",
              "      label.textContent = `Downloading \"${filename}\": `;\n",
              "      div.appendChild(label);\n",
              "      const progress = document.createElement('progress');\n",
              "      progress.max = size;\n",
              "      div.appendChild(progress);\n",
              "      document.body.appendChild(div);\n",
              "\n",
              "      const buffers = [];\n",
              "      let downloaded = 0;\n",
              "\n",
              "      const channel = await google.colab.kernel.comms.open(id);\n",
              "      // Send a message to notify the kernel that we're ready.\n",
              "      channel.send({})\n",
              "\n",
              "      for await (const message of channel.messages) {\n",
              "        // Send a message to notify the kernel that we're ready.\n",
              "        channel.send({})\n",
              "        if (message.buffers) {\n",
              "          for (const buffer of message.buffers) {\n",
              "            buffers.push(buffer);\n",
              "            downloaded += buffer.byteLength;\n",
              "            progress.value = downloaded;\n",
              "          }\n",
              "        }\n",
              "      }\n",
              "      const blob = new Blob(buffers, {type: 'application/binary'});\n",
              "      const a = document.createElement('a');\n",
              "      a.href = window.URL.createObjectURL(blob);\n",
              "      a.download = filename;\n",
              "      div.appendChild(a);\n",
              "      a.click();\n",
              "      div.remove();\n",
              "    }\n",
              "  "
            ]
          },
          "metadata": {}
        },
        {
          "output_type": "display_data",
          "data": {
            "text/plain": [
              "<IPython.core.display.Javascript object>"
            ],
            "application/javascript": [
              "download(\"download_0087fe15-ce07-422a-9133-4d0378dabcb0\", \"output_ner_ZIM_L.zip\", 11316670)"
            ]
          },
          "metadata": {}
        }
      ]
    },
    {
      "cell_type": "code",
      "source": [
        "!python -m spacy convert /content/output/model-best -t tensorflow -n ner --output-dir /content/out"
      ],
      "metadata": {
        "colab": {
          "base_uri": "https://localhost:8080/"
        },
        "id": "P41uvUbo4Kyu",
        "outputId": "ee337f08-a164-4571-b7c7-9f2812e6892a"
      },
      "id": "P41uvUbo4Kyu",
      "execution_count": null,
      "outputs": [
        {
          "output_type": "stream",
          "name": "stdout",
          "text": [
            "2023-04-11 10:35:30.512471: W tensorflow/compiler/tf2tensorrt/utils/py_utils.cc:38] TF-TRT Warning: Could not find TensorRT\n",
            "\u001b[33mUsage: \u001b[0mpython \u001b[1;32m-m\u001b[0m spacy convert \n",
            "           [OPTIONS] INPUT_PATH [OUTPUT_DIR]\n",
            "\u001b[2mTry \u001b[0m\u001b[2;34m'python \u001b[0m\u001b[1;2;34m-m\u001b[0m\u001b[2;34m spacy convert \u001b[0m\u001b[1;2;34m-\u001b[0m\u001b[1;2;34m-help\u001b[0m\u001b[2;34m'\u001b[0m\u001b[2m for help.\u001b[0m\n",
            "\u001b[31m╭─\u001b[0m\u001b[31m Error \u001b[0m\u001b[31m─────────────────────────────────────────────────────────────────────\u001b[0m\u001b[31m─╮\u001b[0m\n",
            "\u001b[31m│\u001b[0m No such option: \u001b[1;36m-\u001b[0m\u001b[1;36m-output\u001b[0m\u001b[1;36m-dir\u001b[0m                                                 \u001b[31m│\u001b[0m\n",
            "\u001b[31m╰──────────────────────────────────────────────────────────────────────────────╯\u001b[0m\n"
          ]
        }
      ]
    },
    {
      "cell_type": "code",
      "source": [
        "!python -m spacy convert /content/output/model-best/ /content/output_converted --converter conllu"
      ],
      "metadata": {
        "colab": {
          "base_uri": "https://localhost:8080/"
        },
        "id": "3Td6_6c44rrq",
        "outputId": "1480a6fe-2789-414a-fe95-65ae3bdc03eb"
      },
      "id": "3Td6_6c44rrq",
      "execution_count": null,
      "outputs": [
        {
          "output_type": "stream",
          "name": "stdout",
          "text": [
            "2023-04-12 06:44:29.992918: W tensorflow/compiler/tf2tensorrt/utils/py_utils.cc:38] TF-TRT Warning: Could not find TensorRT\n",
            "Traceback (most recent call last):\n",
            "  File \"/usr/lib/python3.9/runpy.py\", line 197, in _run_module_as_main\n",
            "    return _run_code(code, main_globals, None,\n",
            "  File \"/usr/lib/python3.9/runpy.py\", line 87, in _run_code\n",
            "    exec(code, run_globals)\n",
            "  File \"/usr/local/lib/python3.9/dist-packages/spacy/__main__.py\", line 4, in <module>\n",
            "    setup_cli()\n",
            "  File \"/usr/local/lib/python3.9/dist-packages/spacy/cli/_util.py\", line 74, in setup_cli\n",
            "    command(prog_name=COMMAND)\n",
            "  File \"/usr/local/lib/python3.9/dist-packages/click/core.py\", line 1130, in __call__\n",
            "    return self.main(*args, **kwargs)\n",
            "  File \"/usr/local/lib/python3.9/dist-packages/typer/core.py\", line 778, in main\n",
            "    return _main(\n",
            "  File \"/usr/local/lib/python3.9/dist-packages/typer/core.py\", line 216, in _main\n",
            "    rv = self.invoke(ctx)\n",
            "  File \"/usr/local/lib/python3.9/dist-packages/click/core.py\", line 1657, in invoke\n",
            "    return _process_result(sub_ctx.command.invoke(sub_ctx))\n",
            "  File \"/usr/local/lib/python3.9/dist-packages/click/core.py\", line 1404, in invoke\n",
            "    return ctx.invoke(self.callback, **ctx.params)\n",
            "  File \"/usr/local/lib/python3.9/dist-packages/click/core.py\", line 760, in invoke\n",
            "    return __callback(*args, **kwargs)\n",
            "  File \"/usr/local/lib/python3.9/dist-packages/typer/main.py\", line 683, in wrapper\n",
            "    return callback(**use_params)  # type: ignore\n",
            "  File \"/usr/local/lib/python3.9/dist-packages/spacy/cli/convert.py\", line 75, in convert_cli\n",
            "    converter = _get_converter(msg, converter, input_path)\n",
            "  File \"/usr/local/lib/python3.9/dist-packages/spacy/cli/convert.py\", line 231, in _get_converter\n",
            "    input_path = walk_directory(input_path, suffix=converter)[0]\n",
            "IndexError: list index out of range\n"
          ]
        }
      ]
    }
  ],
  "metadata": {
    "kernelspec": {
      "display_name": "Python 3",
      "language": "python",
      "name": "python3"
    },
    "language_info": {
      "codemirror_mode": {
        "name": "ipython",
        "version": 3
      },
      "file_extension": ".py",
      "mimetype": "text/x-python",
      "name": "python",
      "nbconvert_exporter": "python",
      "pygments_lexer": "ipython3",
      "version": "3.7.10"
    },
    "colab": {
      "provenance": []
    }
  },
  "nbformat": 4,
  "nbformat_minor": 5
}